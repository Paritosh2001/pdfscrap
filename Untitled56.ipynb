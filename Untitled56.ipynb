{
 "cells": [
  {
   "cell_type": "code",
   "execution_count": 51,
   "metadata": {},
   "outputs": [],
   "source": [
    "import tabula\n",
    "\n",
    "pdf_path = \"C:/Users/parit/Downloads/ast_sci_data_tables_sample.pdf\"\n"
   ]
  },
  {
   "cell_type": "code",
   "execution_count": 52,
   "metadata": {},
   "outputs": [],
   "source": [
    "dfs = tabula.read_pdf(pdf_path, pages='2')\n"
   ]
  },
  {
   "cell_type": "code",
   "execution_count": 53,
   "metadata": {},
   "outputs": [
    {
     "name": "stdout",
     "output_type": "stream",
     "text": [
      "2\n"
     ]
    }
   ],
   "source": [
    "print(len(dfs))\n"
   ]
  },
  {
   "cell_type": "code",
   "execution_count": 59,
   "metadata": {},
   "outputs": [
    {
     "name": "stdout",
     "output_type": "stream",
     "text": [
      "    Speed (mph)           Driver                         Car     Engine  \\\n",
      "0       407.447  Craig Breedlove           Spirit of America     GE J47   \n",
      "1       413.199        Tom Green            Wingfoot Express     WE J46   \n",
      "2       434.220       Art Arfons               Green Monster     GE J79   \n",
      "3       468.719  Craig Breedlove           Spirit of America     GE J79   \n",
      "4       526.277  Craig Breedlove           Spirit of America     GE J79   \n",
      "5       536.712       Art Arfons               Green Monster     GE J79   \n",
      "6       555.127  Craig Breedlove  Spirit of America, Sonic 1     GE J79   \n",
      "7       576.553       Art Arfons               Green Monster     GE J79   \n",
      "8       600.601  Craig Breedlove  Spirit of America, Sonic 1     GE J79   \n",
      "9       622.407    Gary Gabelich                  Blue Flame     Rocket   \n",
      "10      633.468    Richard Noble                    Thrust 2  RR RG 146   \n",
      "11      763.035       Andy Green                  Thrust SSC    RR Spey   \n",
      "\n",
      "        Date  \n",
      "0     8/5/63  \n",
      "1    10/2/64  \n",
      "2    10/5/64  \n",
      "3   10/13/64  \n",
      "4   10/15/65  \n",
      "5   10/27/65  \n",
      "6    11/2/65  \n",
      "7    11/7/65  \n",
      "8   11/15/65  \n",
      "9   10/23/70  \n",
      "10   10/4/83  \n",
      "11  10/15/97  \n"
     ]
    }
   ],
   "source": [
    "print(dfs[0])\n"
   ]
  },
  {
   "cell_type": "code",
   "execution_count": 61,
   "metadata": {},
   "outputs": [],
   "source": [
    "dfs[0].to_csv(\"first_table.csv\")\n",
    "\n"
   ]
  },
  {
   "cell_type": "code",
   "execution_count": 62,
   "metadata": {},
   "outputs": [],
   "source": [
    "import tabula\n",
    "\n",
    "tabula.convert_into(pdf_path, \"first_table.csv\", output_format=\"csv\", pages='1')\n",
    "\n"
   ]
  },
  {
   "cell_type": "code",
   "execution_count": 64,
   "metadata": {},
   "outputs": [],
   "source": [
    "import tabula\n",
    "\n",
    "pdf_path = \"C:/Users/parit/Downloads/ast_sci_data_tables_sample.pdf\"\n",
    "\n",
    "dfs = tabula.read_pdf(pdf_path, pages='2')\n"
   ]
  },
  {
   "cell_type": "code",
   "execution_count": 65,
   "metadata": {},
   "outputs": [
    {
     "name": "stdout",
     "output_type": "stream",
     "text": [
      "2\n"
     ]
    }
   ],
   "source": [
    "print(len(dfs))\n"
   ]
  },
  {
   "cell_type": "code",
   "execution_count": 66,
   "metadata": {},
   "outputs": [],
   "source": [
    "for i in range(len(dfs)):\n",
    "    dfs[i].to_csv(f\"table_{i}.csv\")\n"
   ]
  },
  {
   "cell_type": "code",
   "execution_count": 70,
   "metadata": {},
   "outputs": [],
   "source": [
    "\n",
    "import tabula\n",
    "\n",
    "pdf_path = \"C:/Users/parit/Downloads/ast_sci_data_tables_sample.pdf\"\n",
    "\n",
    "dfs = tabula.read_pdf(pdf_path, pages='all')\n"
   ]
  },
  {
   "cell_type": "code",
   "execution_count": 71,
   "metadata": {},
   "outputs": [
    {
     "name": "stdout",
     "output_type": "stream",
     "text": [
      "3\n"
     ]
    }
   ],
   "source": [
    "print(len(dfs))\n"
   ]
  },
  {
   "cell_type": "code",
   "execution_count": 72,
   "metadata": {},
   "outputs": [],
   "source": [
    "for i in range(len(dfs)):\n",
    "    dfs[i].to_csv(f\"table_{i}.csv\")\n",
    "\n"
   ]
  },
  {
   "cell_type": "code",
   "execution_count": 73,
   "metadata": {},
   "outputs": [
    {
     "name": "stderr",
     "output_type": "stream",
     "text": [
      "Xref table not zero-indexed. ID numbers for objects will be corrected.\n"
     ]
    }
   ],
   "source": [
    "import PyPDF2 \n",
    "a=PyPDF2.PdfFileReader(\"C:/Users/parit/Downloads/ast_sci_data_tables_sample.pdf\")"
   ]
  },
  {
   "cell_type": "code",
   "execution_count": 77,
   "metadata": {},
   "outputs": [],
   "source": [
    "str=\"\"\n",
    "for i in range(1,2):\n",
    "    str += a.getPage(i).extractText()\n",
    "    "
   ]
  },
  {
   "cell_type": "code",
   "execution_count": 78,
   "metadata": {},
   "outputs": [],
   "source": [
    "with open(\"text12.txt\",\"w\",encoding ='utf-8')as f:\n",
    "    f.write(str)"
   ]
  },
  {
   "cell_type": "code",
   "execution_count": null,
   "metadata": {},
   "outputs": [],
   "source": []
  },
  {
   "cell_type": "code",
   "execution_count": null,
   "metadata": {},
   "outputs": [],
   "source": []
  }
 ],
 "metadata": {
  "kernelspec": {
   "display_name": "Python 3",
   "language": "python",
   "name": "python3"
  },
  "language_info": {
   "codemirror_mode": {
    "name": "ipython",
    "version": 3
   },
   "file_extension": ".py",
   "mimetype": "text/x-python",
   "name": "python",
   "nbconvert_exporter": "python",
   "pygments_lexer": "ipython3",
   "version": "3.7.9"
  }
 },
 "nbformat": 4,
 "nbformat_minor": 4
}
